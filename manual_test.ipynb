{
 "cells": [
  {
   "cell_type": "code",
   "execution_count": 1,
   "id": "7e96ac80",
   "metadata": {},
   "outputs": [],
   "source": [
    "import numpy as np\n",
    "\n",
    "class Circle:\n",
    "    def __init__(self, radius):\n",
    "        self.radius = radius\n",
    "\n",
    "    @property\n",
    "    def radius(self):\n",
    "        return self._radius\n",
    "    \n",
    "    @radius.setter\n",
    "    def radius(self, value):\n",
    "        self._radius = value\n",
    "    \n",
    "    @property\n",
    "    def circumference(self) -> float:\n",
    "        return 2*self.radius*np.pi\n",
    "\n"
   ]
  },
  {
   "cell_type": "code",
   "execution_count": 2,
   "id": "b37f51c3",
   "metadata": {},
   "outputs": [
    {
     "data": {
      "text/plain": [
       "25.132741228718345"
      ]
     },
     "execution_count": 2,
     "metadata": {},
     "output_type": "execute_result"
    }
   ],
   "source": [
    "circle1 = Circle (4)\n",
    "circle1.circumference\n"
   ]
  },
  {
   "cell_type": "markdown",
   "id": "db0b642a",
   "metadata": {},
   "source": [
    "## Shape testing"
   ]
  },
  {
   "cell_type": "code",
   "execution_count": null,
   "id": "02fc12c3",
   "metadata": {},
   "outputs": [
    {
     "data": {
      "text/plain": [
       "(True, False)"
      ]
     },
     "execution_count": 4,
     "metadata": {},
     "output_type": "execute_result"
    }
   ],
   "source": [
    "import utils as utl\n",
    "\n",
    "class Shape():\n",
    "    def __init__(self, x, y):\n",
    "        utl.validate_numbers(x,y)\n",
    "        self._x = x\n",
    "        self._y = y\n",
    "\n",
    "    @property\n",
    "    def x(self):\n",
    "        return self._x\n",
    "\n",
    "    @property\n",
    "    def y(self):\n",
    "        return self._y\n",
    "\n",
    "    def translate(self, x, y):\n",
    "        self._x += x\n",
    "        self._y += y\n",
    "    "
   ]
  },
  {
   "cell_type": "markdown",
   "id": "478909c9",
   "metadata": {},
   "source": [
    "## Cricle testing\n"
   ]
  },
  {
   "cell_type": "code",
   "execution_count": null,
   "id": "b8d3e787",
   "metadata": {},
   "outputs": [],
   "source": [
    "import numpy as np\n",
    "\n",
    "class Circle:\n",
    "    def __init__(self, radius):\n",
    "        self.radius = radius\n",
    "\n",
    "    @property\n",
    "    def radius(self):\n",
    "        return self._radius\n",
    "    \n",
    "    @radius.setter\n",
    "    def radius(self, value):\n",
    "        self._radius = value\n",
    "    \n",
    "    @property\n",
    "    def circumference(self) -> float:\n",
    "        return 2*self.radius*np.pi\n"
   ]
  },
  {
   "cell_type": "code",
   "execution_count": 8,
   "id": "af0224a1",
   "metadata": {},
   "outputs": [],
   "source": [
    "rect2 = Rectangle (2, 3, 0, 2)"
   ]
  },
  {
   "cell_type": "code",
   "execution_count": 10,
   "id": "c4ee017c",
   "metadata": {},
   "outputs": [
    {
     "data": {
      "text/plain": [
       "5"
      ]
     },
     "execution_count": 10,
     "metadata": {},
     "output_type": "execute_result"
    }
   ],
   "source": [
    "rect2.x\n",
    "rect2.translate(3,5)\n",
    "rect2.x"
   ]
  }
 ],
 "metadata": {
  "kernelspec": {
   "display_name": "lab_2_Felix_Kjellberg (3.12.10)",
   "language": "python",
   "name": "python3"
  },
  "language_info": {
   "codemirror_mode": {
    "name": "ipython",
    "version": 3
   },
   "file_extension": ".py",
   "mimetype": "text/x-python",
   "name": "python",
   "nbconvert_exporter": "python",
   "pygments_lexer": "ipython3",
   "version": "3.12.10"
  }
 },
 "nbformat": 4,
 "nbformat_minor": 5
}
