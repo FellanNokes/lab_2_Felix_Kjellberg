{
 "cells": [
  {
   "cell_type": "markdown",
   "id": "db0b642a",
   "metadata": {},
   "source": [
    "## Shape testing"
   ]
  },
  {
   "cell_type": "code",
   "execution_count": 54,
   "id": "02fc12c3",
   "metadata": {},
   "outputs": [],
   "source": [
    "import utils as utl\n",
    "from circle import Circle\n",
    "from rectangle import Rectangle\n",
    "\n",
    "class Shape():\n",
    "    def __init__(self, x, y):\n",
    "        utl.validate_numbers(x,y)\n",
    "        self._x = x\n",
    "        self._y = y\n",
    "\n",
    "    @property\n",
    "    def x(self):\n",
    "        return self._x\n",
    "\n",
    "    @property\n",
    "    def y(self):\n",
    "        return self._y\n",
    "\n",
    "    def translate(self, x, y):\n",
    "        self._x += x\n",
    "        self._y += y\n",
    "    "
   ]
  },
  {
   "cell_type": "markdown",
   "id": "478909c9",
   "metadata": {},
   "source": [
    "## Cricle testing\n"
   ]
  },
  {
   "cell_type": "code",
   "execution_count": 55,
   "id": "af0224a1",
   "metadata": {},
   "outputs": [
    {
     "name": "stdout",
     "output_type": "stream",
     "text": [
      "circle1.area = 12.566370614359172 , circle1.perimeter = 12.566370614359172\n",
      "circle2.area = 113.09733552923255 , circle2.perimeter = 37.69911184307752\n"
     ]
    },
    {
     "data": {
      "text/plain": [
       "(True, False)"
      ]
     },
     "execution_count": 55,
     "metadata": {},
     "output_type": "execute_result"
    }
   ],
   "source": [
    "circle1 = Circle(0, 1, 2)\n",
    "circle2 = Circle(0 , 0, 6)\n",
    "circle3 = Circle(0,0,1)\n",
    "print(f\"{circle1.area = } , {circle1.perimeter = }\")\n",
    "print(f\"{circle2.area = } , {circle2.perimeter = }\")\n",
    "circle3.is_unit_circle(), circle1.is_unit_circle()\n"
   ]
  },
  {
   "cell_type": "code",
   "execution_count": 56,
   "id": "f4299001",
   "metadata": {},
   "outputs": [
    {
     "name": "stdout",
     "output_type": "stream",
     "text": [
      "A circle that is located at (x = 0 y = 1) it has a circumference of 12.566370614359172 and an area of 12.566370614359172)\n"
     ]
    },
    {
     "data": {
      "text/plain": [
       "Circle (x=0, y=1, radius=2, circumference=12.566370614359172, area=12.566370614359172)"
      ]
     },
     "execution_count": 56,
     "metadata": {},
     "output_type": "execute_result"
    }
   ],
   "source": [
    "print(circle1)\n",
    "circle1"
   ]
  },
  {
   "cell_type": "code",
   "execution_count": 57,
   "id": "3f5b1013",
   "metadata": {},
   "outputs": [
    {
     "data": {
      "text/plain": [
       "(True, False)"
      ]
     },
     "execution_count": 57,
     "metadata": {},
     "output_type": "execute_result"
    }
   ],
   "source": [
    "circle1 = Circle(0,0,1)\n",
    "circle2 = Circle(0,0,1)\n",
    "circle3 = Circle(2,2,2)\n",
    "circle4 = Circle(2,2,5)\n",
    "circle1 == circle2, circle3 == circle4"
   ]
  },
  {
   "cell_type": "code",
   "execution_count": 58,
   "id": "9e186e41",
   "metadata": {},
   "outputs": [
    {
     "data": {
      "text/plain": [
       "(False, True, True, False)"
      ]
     },
     "execution_count": 58,
     "metadata": {},
     "output_type": "execute_result"
    }
   ],
   "source": [
    "circle1 > circle2, circle1 >= circle2, circle1 < circle3, circle3 < circle1"
   ]
  }
 ],
 "metadata": {
  "kernelspec": {
   "display_name": "lab_2_Felix_Kjellberg (3.12.10)",
   "language": "python",
   "name": "python3"
  },
  "language_info": {
   "codemirror_mode": {
    "name": "ipython",
    "version": 3
   },
   "file_extension": ".py",
   "mimetype": "text/x-python",
   "name": "python",
   "nbconvert_exporter": "python",
   "pygments_lexer": "ipython3",
   "version": "3.12.10"
  }
 },
 "nbformat": 4,
 "nbformat_minor": 5
}
