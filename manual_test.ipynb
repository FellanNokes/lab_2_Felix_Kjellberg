{
 "cells": [
  {
   "cell_type": "code",
   "execution_count": 1,
   "id": "7e96ac80",
   "metadata": {},
   "outputs": [],
   "source": [
    "import numpy as np\n",
    "\n",
    "class Circle:\n",
    "    def __init__(self, radius):\n",
    "        self.radius = radius\n",
    "\n",
    "    @property\n",
    "    def radius(self):\n",
    "        return self._radius\n",
    "    \n",
    "    @radius.setter\n",
    "    def radius(self, value):\n",
    "        self._radius = value\n",
    "    \n",
    "    @property\n",
    "    def circumference(self) -> float:\n",
    "        return 2*self.radius*np.pi\n",
    "\n"
   ]
  },
  {
   "cell_type": "code",
   "execution_count": 2,
   "id": "b37f51c3",
   "metadata": {},
   "outputs": [
    {
     "data": {
      "text/plain": [
       "25.132741228718345"
      ]
     },
     "execution_count": 2,
     "metadata": {},
     "output_type": "execute_result"
    }
   ],
   "source": [
    "circle1 = Circle (4)\n",
    "circle1.circumference\n"
   ]
  },
  {
   "cell_type": "code",
   "execution_count": 7,
   "id": "02fc12c3",
   "metadata": {},
   "outputs": [
    {
     "data": {
      "text/plain": [
       "(True, False)"
      ]
     },
     "execution_count": 7,
     "metadata": {},
     "output_type": "execute_result"
    }
   ],
   "source": [
    "import utils as utl\n",
    "\n",
    "class Shape():\n",
    "    def __init__(self, x, y):\n",
    "        utl.validate_numbers(x,y)\n",
    "        self._x = x\n",
    "        self._y = y\n",
    "\n",
    "    @property\n",
    "    def x(self):\n",
    "        return self._x\n",
    "\n",
    "    @property\n",
    "    def y(self):\n",
    "        return self._y\n",
    "\n",
    "    def translate(self, x, y):\n",
    "        self._x += x\n",
    "        self._y += y\n",
    "\n",
    "class Rectangle(Shape):\n",
    "    def __init__(self, x: float, y: float, height: float, width: float):\n",
    "        super().__init__(x, y)\n",
    "        self.height = height\n",
    "        self.width = width\n",
    "\n",
    "    def __repr__(self):\n",
    "        return f\"Rectangle with position x = {self.x},y = {self.y}, height = {self.height} width = {self.width}\"\n",
    "    \n",
    "    @property\n",
    "    def height(self):\n",
    "        return self._height\n",
    "    \n",
    "    @height.setter\n",
    "    def height(self, value):\n",
    "        utl.validate_positive_numbers(value)\n",
    "        self._height = value\n",
    "\n",
    "    @property\n",
    "    def width(self):\n",
    "        return self._width\n",
    "    \n",
    "    @width.setter\n",
    "    def width(self, value):\n",
    "        utl.validate_positive_numbers(value)\n",
    "        self._width = value\n",
    "\n",
    "    @property\n",
    "    def area(self):\n",
    "        return self._height * self._width\n",
    "    \n",
    "    @property\n",
    "    def perimeter(self):\n",
    "        return 2 * (self._height + self._width)\n",
    "    \n",
    "    def is_square(self) -> bool:\n",
    "        return self.width == self.height\n",
    "    \n",
    "    def __eq__(self, other) -> bool:\n",
    "        return self.height == other.height and self.width == other.width\n",
    "    \n",
    "rect1 = Rectangle (1 , 2, 4, 3)\n",
    "rect2 = Rectangle (3, 2, 4, 3)\n",
    "rect3 = Rectangle (4, 3, 3, 4)\n",
    "\n",
    "rect1 == rect2, rect2 == rect3"
   ]
  },
  {
   "cell_type": "code",
   "execution_count": 8,
   "id": "af0224a1",
   "metadata": {},
   "outputs": [],
   "source": [
    "rect2 = Rectangle (2, 3, 0, 2)"
   ]
  },
  {
   "cell_type": "code",
   "execution_count": 10,
   "id": "c4ee017c",
   "metadata": {},
   "outputs": [
    {
     "data": {
      "text/plain": [
       "5"
      ]
     },
     "execution_count": 10,
     "metadata": {},
     "output_type": "execute_result"
    }
   ],
   "source": [
    "rect2.x\n",
    "rect2.translate(3,5)\n",
    "rect2.x"
   ]
  }
 ],
 "metadata": {
  "kernelspec": {
   "display_name": "lab_2_Felix_Kjellberg",
   "language": "python",
   "name": "python3"
  },
  "language_info": {
   "codemirror_mode": {
    "name": "ipython",
    "version": 3
   },
   "file_extension": ".py",
   "mimetype": "text/x-python",
   "name": "python",
   "nbconvert_exporter": "python",
   "pygments_lexer": "ipython3",
   "version": "3.12.10"
  }
 },
 "nbformat": 4,
 "nbformat_minor": 5
}
