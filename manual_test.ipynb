{
 "cells": [
  {
   "cell_type": "markdown",
   "id": "db0b642a",
   "metadata": {},
   "source": [
    "## Shape testing"
   ]
  },
  {
   "cell_type": "code",
   "execution_count": 47,
   "id": "02fc12c3",
   "metadata": {},
   "outputs": [],
   "source": [
    "import utils as utl\n",
    "\n",
    "class Shape():\n",
    "    def __init__(self, x, y):\n",
    "        utl.validate_numbers(x,y)\n",
    "        self._x = x\n",
    "        self._y = y\n",
    "\n",
    "    @property\n",
    "    def x(self):\n",
    "        return self._x\n",
    "\n",
    "    @property\n",
    "    def y(self):\n",
    "        return self._y\n",
    "\n",
    "    def translate(self, x, y):\n",
    "        self._x += x\n",
    "        self._y += y\n",
    "    "
   ]
  },
  {
   "cell_type": "markdown",
   "id": "478909c9",
   "metadata": {},
   "source": [
    "## Cricle testing\n"
   ]
  },
  {
   "cell_type": "code",
   "execution_count": 48,
   "id": "b8d3e787",
   "metadata": {},
   "outputs": [],
   "source": [
    "import numpy as np\n",
    "\n",
    "\n",
    "class Circle(Shape):\n",
    "    def __init__(self, x, y, radius):\n",
    "        super().__init__(x, y)\n",
    "        self.radius = radius\n",
    "\n",
    "    @property\n",
    "    def radius(self):\n",
    "        return self._radius\n",
    "\n",
    "    @radius.setter\n",
    "    def radius(self, value):\n",
    "        self._radius = value\n",
    "\n",
    "    @property\n",
    "    def circumference(self) -> float:\n",
    "        return 2 * np.pi * self.radius\n",
    "\n",
    "    @property\n",
    "    def area(self) -> float:\n",
    "        return np.pi * self.radius**2\n",
    "\n",
    "    def __repr__(self):\n",
    "        return f\"Circle (x={self.x}, y={self.y}, radius={self.radius}, circumference={self.circumference}, area={self.area})\"\n",
    "    \n",
    "    def __str__(self):\n",
    "        return f\"A circle that is located at (x = {self.x} y = {self.y}) it has a circumference of {self.circumference} and an area of {self.area})\"\n",
    "\n",
    "    def is_unit_circle(self) -> bool:\n",
    "        if self.x == 0 and self.y == 0 and self.radius == 1:\n",
    "            return True\n",
    "        else:\n",
    "            return False\n",
    "        \n",
    "    def __eq__(self, other):\n",
    "        # I did google how to check if two circles are equal and took the formula but the code is all mine \n",
    "        return ((other.x - self.x)**2 +(other.y - self.y)**2)**.5 == 0 and self.radius == other.radius\n",
    "    \n",
    "    def __lt__(self, other) -> bool:\n",
    "        return self.radius < other.radius\n",
    "    \n",
    "    def __le__(self, other) -> bool:\n",
    "        return self.radius <= other.radius\n",
    "    \n",
    "    def __gt__(self, other) -> bool:\n",
    "        return self.radius > other.radius\n",
    "    \n",
    "    def __ge__(self, other) -> bool:\n",
    "        return self.radius >= other.radius"
   ]
  },
  {
   "cell_type": "code",
   "execution_count": 34,
   "id": "af0224a1",
   "metadata": {},
   "outputs": [
    {
     "name": "stdout",
     "output_type": "stream",
     "text": [
      "circle1.area = 12.566370614359172 , circle1.circumference = 12.566370614359172\n",
      "circle2.area = 113.09733552923255 , circle2.circumference = 37.69911184307752\n"
     ]
    },
    {
     "data": {
      "text/plain": [
       "(True, False)"
      ]
     },
     "execution_count": 34,
     "metadata": {},
     "output_type": "execute_result"
    }
   ],
   "source": [
    "circle1 = Circle(0, 1, 2)\n",
    "circle2 = Circle(0 , 0, 6)\n",
    "circle3 = Circle(0,0,1)\n",
    "print(f\"{circle1.area = } , {circle1.circumference = }\")\n",
    "print(f\"{circle2.area = } , {circle2.circumference = }\")\n",
    "circle3.is_unit_circle(), circle1.is_unit_circle()\n"
   ]
  },
  {
   "cell_type": "code",
   "execution_count": 35,
   "id": "f4299001",
   "metadata": {},
   "outputs": [
    {
     "name": "stdout",
     "output_type": "stream",
     "text": [
      "A circle that is located at (x = 0 y = 1) it has a circumference of 12.566370614359172 and an area of 12.566370614359172)\n"
     ]
    },
    {
     "data": {
      "text/plain": [
       "Circle (x=0, y=1, radius=2, circumference=12.566370614359172, area=12.566370614359172)"
      ]
     },
     "execution_count": 35,
     "metadata": {},
     "output_type": "execute_result"
    }
   ],
   "source": [
    "print(circle1)\n",
    "circle1"
   ]
  },
  {
   "cell_type": "code",
   "execution_count": 50,
   "id": "3f5b1013",
   "metadata": {},
   "outputs": [
    {
     "data": {
      "text/plain": [
       "(True, False)"
      ]
     },
     "execution_count": 50,
     "metadata": {},
     "output_type": "execute_result"
    }
   ],
   "source": [
    "circle1 = Circle(0,0,1)\n",
    "circle2 = Circle(0,0,1)\n",
    "circle3 = Circle(2,2,2)\n",
    "circle4 = Circle(2,2,5)\n",
    "circle1 == circle2, circle3 == circle4"
   ]
  },
  {
   "cell_type": "code",
   "execution_count": 53,
   "id": "9e186e41",
   "metadata": {},
   "outputs": [
    {
     "data": {
      "text/plain": [
       "(False, True, True, False)"
      ]
     },
     "execution_count": 53,
     "metadata": {},
     "output_type": "execute_result"
    }
   ],
   "source": [
    "circle1 > circle2, circle1 >= circle2, circle1 < circle3, circle3 < circle1"
   ]
  }
 ],
 "metadata": {
  "kernelspec": {
   "display_name": "lab_2_Felix_Kjellberg (3.12.10)",
   "language": "python",
   "name": "python3"
  },
  "language_info": {
   "codemirror_mode": {
    "name": "ipython",
    "version": 3
   },
   "file_extension": ".py",
   "mimetype": "text/x-python",
   "name": "python",
   "nbconvert_exporter": "python",
   "pygments_lexer": "ipython3",
   "version": "3.12.10"
  }
 },
 "nbformat": 4,
 "nbformat_minor": 5
}
